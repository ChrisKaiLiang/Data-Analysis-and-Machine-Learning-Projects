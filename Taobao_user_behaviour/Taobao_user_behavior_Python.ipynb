{
 "cells": [
  {
   "cell_type": "markdown",
   "metadata": {},
   "source": [
    "# Taobao User Behaviour (Python)"
   ]
  },
  {
   "cell_type": "markdown",
   "metadata": {},
   "source": [
    "## 1 - 项目简介"
   ]
  },
  {
   "cell_type": "markdown",
   "metadata": {},
   "source": [
    "### 1.1 项目背景"
   ]
  },
  {
   "cell_type": "markdown",
   "metadata": {},
   "source": [
    "UserBehavior是阿里巴巴提供的一个淘宝用户行为数据集，包含了2017年11月25日至2017年12月3日之间，有行为的约一百万随机用户的所有行为（行为包括点击、购买、加购、喜欢）。数据集的组织形式和MovieLens-20M类似，即数据集的每一行表示一条用户行为，由用户ID、商品ID、商品类目ID、行为类型和时间戳组成，并以逗号分隔。\n",
    "\n",
    "数据集地址：[User Behavior Data from Taobao](https://tianchi.aliyun.com/dataset/dataDetail?dataId=649) "
   ]
  },
  {
   "cell_type": "markdown",
   "metadata": {},
   "source": [
    "<html>\n",
    "<p><strong>关于数据集中每一列的详细描述如下：</strong></p>\n",
    "\n",
    "<table align=\"left\">\n",
    "\n",
    "<thead>    \n",
    "<tr>\n",
    "    <th style=\"text-align:center\">列名称</th>\n",
    "    <th style=\"text-align:center\">中文列名称</th>\n",
    "    <th style=\"text-align:center\">说明</th>\n",
    "</tr>\n",
    "</thead> \n",
    "    \n",
    "<tbody>\n",
    "<tr>\n",
    "    <td style=\"text-align:left\">user_id</td>\n",
    "    <td style=\"text-align:left\">用户ID</td>\n",
    "    <td style=\"text-align:left\">整数类型，序列化后的用户ID</td>\n",
    "</tr>\n",
    "<tr>\n",
    "    <td style=\"text-align:left\">item_id</td>\n",
    "    <td style=\"text-align:left\">商品ID</td>\n",
    "    <td style=\"text-align:left\">整数类型，序列化后的商品ID</td>\n",
    "</tr>\n",
    "<tr>\n",
    "    <td style=\"text-align:left\">category_id</td>\n",
    "    <td style=\"text-align:left\">商品类目ID</td>\n",
    "    <td style=\"text-align:left\">整数类型，序列化后的商品所属类目ID</td>\n",
    "</tr>\n",
    "<tr>\n",
    "    <td style=\"text-align:left\">behavior_type</td>\n",
    "    <td style=\"text-align:left\">行为类型</td>\n",
    "    <td style=\"text-align:left\">字符串，枚举类型，包括('pv', 'buy', 'cart', 'fav')</td>\n",
    "</tr>\n",
    "<tr>\n",
    "    <td style=\"text-align:left\">timestamp</td>\n",
    "    <td style=\"text-align:left\">时间戳</td>\n",
    "    <td style=\"text-align:left\">行为发生的时间戳</td>\n",
    "</tr>\n",
    "</tbody>\n",
    "    \n",
    "</table>\n",
    "</html>"
   ]
  },
  {
   "cell_type": "markdown",
   "metadata": {},
   "source": [
    "<html>\n",
    "<p><strong>用户行为类型共有四种，它们分别是：</strong></p>\n",
    "\n",
    "<table align=\"left\">\n",
    "\n",
    "<thead>\n",
    "<tr> \n",
    "    <th style=\"text-align:center\">行为类型</th>\n",
    "    <th style=\"text-align:center\">说明</th>\n",
    "</tr>\n",
    "</thead>\n",
    "\n",
    "<tbody>\n",
    "<tr>\n",
    "    <td style=\"text-align:left\">pv</td>\n",
    "    <td style=\"text-align:left\">商品详情页pv，等价于点击</td>\n",
    "</tr>\n",
    "<tr>\n",
    "    <td style=\"text-align:left\">buy</td>\n",
    "    <td style=\"text-align:left\">商品购买</td>\n",
    "</tr>\n",
    "<tr>\n",
    "    <td style=\"text-align:left\">cart</td>\n",
    "    <td style=\"text-align:left\">将商品加入购物车</td>\n",
    "</tr>\n",
    "<tr>\n",
    "    <td style=\"text-align:left\">fav</td>\n",
    "    <td style=\"text-align:left\">收藏商品</td>\n",
    "</tr>\n",
    "</tbody>\n",
    "\n",
    "</table>\n",
    "</html>"
   ]
  },
  {
   "cell_type": "markdown",
   "metadata": {},
   "source": [
    "### 1.2 分析目标"
   ]
  },
  {
   "cell_type": "code",
   "execution_count": null,
   "metadata": {},
   "outputs": [],
   "source": []
  },
  {
   "cell_type": "markdown",
   "metadata": {},
   "source": [
    "### 1.3 分析方法"
   ]
  },
  {
   "cell_type": "markdown",
   "metadata": {},
   "source": [
    "- 流量指标\n",
    "- 用户消费频次\n",
    "- 用户行为在时间维度的分布\n",
    "- 用户行为转化漏斗\n",
    "- 用户留存率\n",
    "- 商品销量"
   ]
  },
  {
   "cell_type": "markdown",
   "metadata": {},
   "source": [
    "## 2 - 数据读入与检查"
   ]
  },
  {
   "cell_type": "markdown",
   "metadata": {},
   "source": [
    "### 2.1 Python 库导入"
   ]
  },
  {
   "cell_type": "code",
   "execution_count": 1,
   "metadata": {
    "ExecuteTime": {
     "end_time": "2020-12-02T07:53:17.992655Z",
     "start_time": "2020-12-02T07:53:16.779505Z"
    }
   },
   "outputs": [],
   "source": [
    "import pandas as pd\n",
    "import datetime\n",
    "\n",
    "import matplotlib.pyplot as plt\n",
    "import seaborn as sns\n",
    "#plt.rcParams['font.sans-serif'] = ['Arial Unicode MS'] # 中文字体\n",
    "plt.rcParams['font.sans-serif'] = ['SimHei']#黑体\n",
    "sns.set_style('whitegrid') # 网格背景\n",
    "\n",
    "%config InlineBackend.figure_format = 'retina' # retina 显示\n",
    "%matplotlib inline"
   ]
  },
  {
   "cell_type": "code",
   "execution_count": 2,
   "metadata": {},
   "outputs": [
    {
     "data": {
      "text/html": [
       "<div>\n",
       "<style scoped>\n",
       "    .dataframe tbody tr th:only-of-type {\n",
       "        vertical-align: middle;\n",
       "    }\n",
       "\n",
       "    .dataframe tbody tr th {\n",
       "        vertical-align: top;\n",
       "    }\n",
       "\n",
       "    .dataframe thead th {\n",
       "        text-align: right;\n",
       "    }\n",
       "</style>\n",
       "<table border=\"1\" class=\"dataframe\">\n",
       "  <thead>\n",
       "    <tr style=\"text-align: right;\">\n",
       "      <th></th>\n",
       "      <th>user_id</th>\n",
       "      <th>item_id</th>\n",
       "      <th>category_id</th>\n",
       "      <th>behavior_type</th>\n",
       "      <th>timestamp</th>\n",
       "    </tr>\n",
       "  </thead>\n",
       "  <tbody>\n",
       "    <tr>\n",
       "      <th>0</th>\n",
       "      <td>1</td>\n",
       "      <td>2268318</td>\n",
       "      <td>2520377</td>\n",
       "      <td>pv</td>\n",
       "      <td>1511544070</td>\n",
       "    </tr>\n",
       "    <tr>\n",
       "      <th>1</th>\n",
       "      <td>1</td>\n",
       "      <td>2333346</td>\n",
       "      <td>2520771</td>\n",
       "      <td>pv</td>\n",
       "      <td>1511561733</td>\n",
       "    </tr>\n",
       "    <tr>\n",
       "      <th>2</th>\n",
       "      <td>1</td>\n",
       "      <td>2576651</td>\n",
       "      <td>149192</td>\n",
       "      <td>pv</td>\n",
       "      <td>1511572885</td>\n",
       "    </tr>\n",
       "    <tr>\n",
       "      <th>3</th>\n",
       "      <td>1</td>\n",
       "      <td>3830808</td>\n",
       "      <td>4181361</td>\n",
       "      <td>pv</td>\n",
       "      <td>1511593493</td>\n",
       "    </tr>\n",
       "    <tr>\n",
       "      <th>4</th>\n",
       "      <td>1</td>\n",
       "      <td>4365585</td>\n",
       "      <td>2520377</td>\n",
       "      <td>pv</td>\n",
       "      <td>1511596146</td>\n",
       "    </tr>\n",
       "  </tbody>\n",
       "</table>\n",
       "</div>"
      ],
      "text/plain": [
       "   user_id  item_id  category_id behavior_type   timestamp\n",
       "0        1  2268318      2520377            pv  1511544070\n",
       "1        1  2333346      2520771            pv  1511561733\n",
       "2        1  2576651       149192            pv  1511572885\n",
       "3        1  3830808      4181361            pv  1511593493\n",
       "4        1  4365585      2520377            pv  1511596146"
      ]
     },
     "execution_count": 2,
     "metadata": {},
     "output_type": "execute_result"
    }
   ],
   "source": [
    "raw = pd.read_csv('Data/UserBehavior.csv',\n",
    "                  names=['user_id', 'item_id', 'category_id', 'behavior_type', 'timestamp'])\n",
    "raw.head()"
   ]
  },
  {
   "cell_type": "markdown",
   "metadata": {},
   "source": [
    "### 2.2 数据概况"
   ]
  },
  {
   "cell_type": "code",
   "execution_count": 3,
   "metadata": {},
   "outputs": [
    {
     "name": "stdout",
     "output_type": "stream",
     "text": [
      "<class 'pandas.core.frame.DataFrame'>\n",
      "RangeIndex: 100150807 entries, 0 to 100150806\n",
      "Data columns (total 5 columns):\n",
      " #   Column         Dtype \n",
      "---  ------         ----- \n",
      " 0   user_id        int64 \n",
      " 1   item_id        int64 \n",
      " 2   category_id    int64 \n",
      " 3   behavior_type  object\n",
      " 4   timestamp      int64 \n",
      "dtypes: int64(4), object(1)\n",
      "memory usage: 3.7+ GB\n"
     ]
    }
   ],
   "source": [
    "raw.info()"
   ]
  },
  {
   "cell_type": "code",
   "execution_count": 4,
   "metadata": {},
   "outputs": [
    {
     "name": "stdout",
     "output_type": "stream",
     "text": [
      "user_id 987994\n",
      "item_id 4162024\n",
      "category_id 9439\n",
      "behavior_type 4\n",
      "timestamp 815859\n"
     ]
    }
   ],
   "source": [
    "for i in raw.columns:\n",
    "    print(i, len(raw[i].unique()))"
   ]
  },
  {
   "cell_type": "code",
   "execution_count": 5,
   "metadata": {},
   "outputs": [
    {
     "data": {
      "text/plain": [
       "pv      89716264\n",
       "cart     5530446\n",
       "fav      2888258\n",
       "buy      2015839\n",
       "Name: behavior_type, dtype: int64"
      ]
     },
     "execution_count": 5,
     "metadata": {},
     "output_type": "execute_result"
    }
   ],
   "source": [
    "raw['behavior_type'].value_counts()"
   ]
  },
  {
   "cell_type": "markdown",
   "metadata": {},
   "source": [
    "## 3 - 数据预处理"
   ]
  },
  {
   "cell_type": "code",
   "execution_count": 93,
   "metadata": {
    "ExecuteTime": {
     "end_time": "2020-11-26T14:40:03.786165Z",
     "start_time": "2020-11-26T14:39:51.463011Z"
    }
   },
   "outputs": [],
   "source": [
    "ub = raw.copy()"
   ]
  },
  {
   "cell_type": "markdown",
   "metadata": {},
   "source": [
    "### 3.1 - 将timestamp转换为日期格式"
   ]
  },
  {
   "cell_type": "code",
   "execution_count": 94,
   "metadata": {
    "ExecuteTime": {
     "end_time": "2020-11-26T14:53:38.347006Z",
     "start_time": "2020-11-26T14:40:20.993205Z"
    }
   },
   "outputs": [],
   "source": [
    "# 从 timestamp 转化为 pandas 的 datetime 格式\n",
    "\n",
    "stamp_to_date = lambda x: pd.Timestamp(x, unit='s', tz='Asia/Shanghai').date()\n",
    "ub['ub_date'] = ub['timestamp'].apply(stamp_to_date)"
   ]
  },
  {
   "cell_type": "code",
   "execution_count": 95,
   "metadata": {
    "ExecuteTime": {
     "end_time": "2020-11-26T15:09:31.953772Z",
     "start_time": "2020-11-26T14:53:38.535710Z"
    }
   },
   "outputs": [],
   "source": [
    "stamp_to_datetime= lambda x: pd.Timestamp(x, unit='s', tz='Asia/Shanghai')\n",
    "ub['ub_datetime'] = ub['timestamp'].apply(stamp_to_datetime)"
   ]
  },
  {
   "cell_type": "markdown",
   "metadata": {},
   "source": [
    "### 3.2 - 保留特定时间段的数据"
   ]
  },
  {
   "cell_type": "code",
   "execution_count": 96,
   "metadata": {
    "ExecuteTime": {
     "end_time": "2020-11-26T15:10:11.015524Z",
     "start_time": "2020-11-26T15:09:32.105126Z"
    }
   },
   "outputs": [],
   "source": [
    "ub = ub[(ub['ub_date'] >= pd.to_datetime('2017-11-25')) & (ub['ub_date'] <= pd.to_datetime('2017-12-03'))]"
   ]
  },
  {
   "cell_type": "code",
   "execution_count": 97,
   "metadata": {
    "ExecuteTime": {
     "end_time": "2020-11-26T15:10:19.263824Z",
     "start_time": "2020-11-26T15:10:11.135155Z"
    }
   },
   "outputs": [
    {
     "data": {
      "text/plain": [
       "2017-12-02    13777869\n",
       "2017-12-03    13662159\n",
       "2017-12-01    10859436\n",
       "2017-11-26    10664602\n",
       "2017-11-30    10447740\n",
       "2017-11-25    10420015\n",
       "2017-11-29    10284073\n",
       "2017-11-27    10101147\n",
       "2017-11-28     9878190\n",
       "Name: ub_date, dtype: int64"
      ]
     },
     "execution_count": 97,
     "metadata": {},
     "output_type": "execute_result"
    }
   ],
   "source": [
    "ub['ub_date'].value_counts()"
   ]
  },
  {
   "cell_type": "code",
   "execution_count": 123,
   "metadata": {
    "ExecuteTime": {
     "end_time": "2020-11-27T06:59:31.102072Z",
     "start_time": "2020-11-27T06:59:31.092769Z"
    }
   },
   "outputs": [
    {
     "data": {
      "text/html": [
       "<div>\n",
       "<style scoped>\n",
       "    .dataframe tbody tr th:only-of-type {\n",
       "        vertical-align: middle;\n",
       "    }\n",
       "\n",
       "    .dataframe tbody tr th {\n",
       "        vertical-align: top;\n",
       "    }\n",
       "\n",
       "    .dataframe thead th {\n",
       "        text-align: right;\n",
       "    }\n",
       "</style>\n",
       "<table border=\"1\" class=\"dataframe\">\n",
       "  <thead>\n",
       "    <tr style=\"text-align: right;\">\n",
       "      <th></th>\n",
       "      <th>user_id</th>\n",
       "      <th>item_id</th>\n",
       "      <th>category_id</th>\n",
       "      <th>behavior_type</th>\n",
       "      <th>timestamp</th>\n",
       "      <th>ub_date</th>\n",
       "      <th>ub_datetime</th>\n",
       "    </tr>\n",
       "  </thead>\n",
       "  <tbody>\n",
       "    <tr>\n",
       "      <th>0</th>\n",
       "      <td>1</td>\n",
       "      <td>2268318</td>\n",
       "      <td>2520377</td>\n",
       "      <td>pv</td>\n",
       "      <td>1511544070</td>\n",
       "      <td>2017-11-25</td>\n",
       "      <td>2017-11-25 01:21:10+08:00</td>\n",
       "    </tr>\n",
       "    <tr>\n",
       "      <th>1</th>\n",
       "      <td>1</td>\n",
       "      <td>2333346</td>\n",
       "      <td>2520771</td>\n",
       "      <td>pv</td>\n",
       "      <td>1511561733</td>\n",
       "      <td>2017-11-25</td>\n",
       "      <td>2017-11-25 06:15:33+08:00</td>\n",
       "    </tr>\n",
       "    <tr>\n",
       "      <th>2</th>\n",
       "      <td>1</td>\n",
       "      <td>2576651</td>\n",
       "      <td>149192</td>\n",
       "      <td>pv</td>\n",
       "      <td>1511572885</td>\n",
       "      <td>2017-11-25</td>\n",
       "      <td>2017-11-25 09:21:25+08:00</td>\n",
       "    </tr>\n",
       "    <tr>\n",
       "      <th>3</th>\n",
       "      <td>1</td>\n",
       "      <td>3830808</td>\n",
       "      <td>4181361</td>\n",
       "      <td>pv</td>\n",
       "      <td>1511593493</td>\n",
       "      <td>2017-11-25</td>\n",
       "      <td>2017-11-25 15:04:53+08:00</td>\n",
       "    </tr>\n",
       "    <tr>\n",
       "      <th>4</th>\n",
       "      <td>1</td>\n",
       "      <td>4365585</td>\n",
       "      <td>2520377</td>\n",
       "      <td>pv</td>\n",
       "      <td>1511596146</td>\n",
       "      <td>2017-11-25</td>\n",
       "      <td>2017-11-25 15:49:06+08:00</td>\n",
       "    </tr>\n",
       "  </tbody>\n",
       "</table>\n",
       "</div>"
      ],
      "text/plain": [
       "   user_id  item_id  category_id behavior_type   timestamp     ub_date  \\\n",
       "0        1  2268318      2520377            pv  1511544070  2017-11-25   \n",
       "1        1  2333346      2520771            pv  1511561733  2017-11-25   \n",
       "2        1  2576651       149192            pv  1511572885  2017-11-25   \n",
       "3        1  3830808      4181361            pv  1511593493  2017-11-25   \n",
       "4        1  4365585      2520377            pv  1511596146  2017-11-25   \n",
       "\n",
       "                ub_datetime  \n",
       "0 2017-11-25 01:21:10+08:00  \n",
       "1 2017-11-25 06:15:33+08:00  \n",
       "2 2017-11-25 09:21:25+08:00  \n",
       "3 2017-11-25 15:04:53+08:00  \n",
       "4 2017-11-25 15:49:06+08:00  "
      ]
     },
     "execution_count": 123,
     "metadata": {},
     "output_type": "execute_result"
    }
   ],
   "source": [
    "ub.head()"
   ]
  },
  {
   "cell_type": "markdown",
   "metadata": {},
   "source": [
    "### 3.3 存储处理过的数据"
   ]
  },
  {
   "cell_type": "code",
   "execution_count": 101,
   "metadata": {
    "ExecuteTime": {
     "end_time": "2020-11-26T15:33:48.978799Z",
     "start_time": "2020-11-26T15:14:35.735547Z"
    }
   },
   "outputs": [],
   "source": [
    "# ub.to_csv('Data/ub_cleaned.csv', index=False, encoding='utf-8-sig')"
   ]
  },
  {
   "cell_type": "code",
   "execution_count": 2,
   "metadata": {
    "ExecuteTime": {
     "end_time": "2020-12-02T07:55:25.967242Z",
     "start_time": "2020-12-02T07:53:27.307230Z"
    }
   },
   "outputs": [],
   "source": [
    "ub = pd.read_csv(\"Data/ub_cleaned.csv\")"
   ]
  },
  {
   "cell_type": "markdown",
   "metadata": {},
   "source": [
    "# 预留"
   ]
  },
  {
   "cell_type": "code",
   "execution_count": null,
   "metadata": {},
   "outputs": [],
   "source": [
    "# ub[ub['item_id'].isin(ub[ub['behavior_type']=='buy']['item_id'].unique())].groupby('item_id')['behavior_type'].value_counts().unstack(fill_value=0).sort_values(by='pv', ascending=False)"
   ]
  },
  {
   "cell_type": "code",
   "execution_count": null,
   "metadata": {},
   "outputs": [],
   "source": [
    "# ub[ub['category_id'].isin(ub[ub['behavior_type']=='buy']['category_id'].unique())].groupby('category_id')['behavior_type'].value_counts().unstack(fill_value=0).sort_values(by='buy', ascending=False)"
   ]
  },
  {
   "cell_type": "markdown",
   "metadata": {},
   "source": [
    "## 4 - 用户数据指标"
   ]
  },
  {
   "cell_type": "code",
   "execution_count": null,
   "metadata": {},
   "outputs": [],
   "source": []
  },
  {
   "cell_type": "code",
   "execution_count": null,
   "metadata": {},
   "outputs": [],
   "source": []
  },
  {
   "cell_type": "code",
   "execution_count": null,
   "metadata": {},
   "outputs": [],
   "source": []
  },
  {
   "cell_type": "code",
   "execution_count": null,
   "metadata": {},
   "outputs": [],
   "source": []
  },
  {
   "cell_type": "code",
   "execution_count": null,
   "metadata": {},
   "outputs": [],
   "source": []
  },
  {
   "cell_type": "code",
   "execution_count": null,
   "metadata": {},
   "outputs": [],
   "source": []
  },
  {
   "cell_type": "code",
   "execution_count": null,
   "metadata": {},
   "outputs": [],
   "source": []
  },
  {
   "cell_type": "code",
   "execution_count": null,
   "metadata": {},
   "outputs": [],
   "source": []
  },
  {
   "cell_type": "markdown",
   "metadata": {},
   "source": [
    "### 消费次数前 10 的客户"
   ]
  },
  {
   "cell_type": "code",
   "execution_count": 28,
   "metadata": {
    "ExecuteTime": {
     "end_time": "2020-11-26T07:36:30.121567Z",
     "start_time": "2020-11-26T07:36:24.770029Z"
    }
   },
   "outputs": [
    {
     "data": {
      "text/html": [
       "<div>\n",
       "<style scoped>\n",
       "    .dataframe tbody tr th:only-of-type {\n",
       "        vertical-align: middle;\n",
       "    }\n",
       "\n",
       "    .dataframe tbody tr th {\n",
       "        vertical-align: top;\n",
       "    }\n",
       "\n",
       "    .dataframe thead th {\n",
       "        text-align: right;\n",
       "    }\n",
       "</style>\n",
       "<table border=\"1\" class=\"dataframe\">\n",
       "  <thead>\n",
       "    <tr style=\"text-align: right;\">\n",
       "      <th></th>\n",
       "      <th>buy_frequency</th>\n",
       "    </tr>\n",
       "    <tr>\n",
       "      <th>user_id</th>\n",
       "      <th></th>\n",
       "    </tr>\n",
       "  </thead>\n",
       "  <tbody>\n",
       "    <tr>\n",
       "      <th>486458</th>\n",
       "      <td>262</td>\n",
       "    </tr>\n",
       "    <tr>\n",
       "      <th>866670</th>\n",
       "      <td>177</td>\n",
       "    </tr>\n",
       "    <tr>\n",
       "      <th>702034</th>\n",
       "      <td>159</td>\n",
       "    </tr>\n",
       "    <tr>\n",
       "      <th>107013</th>\n",
       "      <td>131</td>\n",
       "    </tr>\n",
       "    <tr>\n",
       "      <th>1014116</th>\n",
       "      <td>118</td>\n",
       "    </tr>\n",
       "    <tr>\n",
       "      <th>432739</th>\n",
       "      <td>112</td>\n",
       "    </tr>\n",
       "    <tr>\n",
       "      <th>500355</th>\n",
       "      <td>110</td>\n",
       "    </tr>\n",
       "    <tr>\n",
       "      <th>537150</th>\n",
       "      <td>109</td>\n",
       "    </tr>\n",
       "    <tr>\n",
       "      <th>1003412</th>\n",
       "      <td>100</td>\n",
       "    </tr>\n",
       "    <tr>\n",
       "      <th>919666</th>\n",
       "      <td>97</td>\n",
       "    </tr>\n",
       "  </tbody>\n",
       "</table>\n",
       "</div>"
      ],
      "text/plain": [
       "         buy_frequency\n",
       "user_id               \n",
       "486458             262\n",
       "866670             177\n",
       "702034             159\n",
       "107013             131\n",
       "1014116            118\n",
       "432739             112\n",
       "500355             110\n",
       "537150             109\n",
       "1003412            100\n",
       "919666              97"
      ]
     },
     "execution_count": 28,
     "metadata": {},
     "output_type": "execute_result"
    }
   ],
   "source": [
    "user_buy_top10 = ub[ub['behavior_type']=='buy'].groupby('user_id')['behavior_type'].count().sort_values(ascending=False)[:10]\n",
    "pd.DataFrame({'buy_frequency': user_buy_top10}, index=user_buy_top10.index)"
   ]
  },
  {
   "cell_type": "markdown",
   "metadata": {},
   "source": [
    "## 5 - 行为数据指标"
   ]
  },
  {
   "cell_type": "markdown",
   "metadata": {},
   "source": [
    "### 5.1 - 流量指标分析"
   ]
  },
  {
   "cell_type": "markdown",
   "metadata": {},
   "source": [
    "- 总访问量 (PV)\n",
    "- 总访客数 (UV)\n",
    "- 消费用户数 (user_pay)\n",
    "- 日均访问量 (pv_per_day)\n",
    "- 人均访问量 (pv_per_user) : PV/UV\n",
    "- 消费用户数占比 (user_pay_rate) user_pay/UV"
   ]
  },
  {
   "cell_type": "code",
   "execution_count": 5,
   "metadata": {
    "ExecuteTime": {
     "end_time": "2020-11-27T07:11:02.939696Z",
     "start_time": "2020-11-27T07:10:50.578653Z"
    }
   },
   "outputs": [],
   "source": [
    "pv = len(ub['user_id'])\n",
    "uv = ub['user_id'].nunique()\n",
    "user_pay = ub[ub['behavior_type'] == 'buy']['user_id'].nunique()\n",
    "pv_per_day = round(pv/ub['ub_date'].nunique(), 2)\n",
    "pv_per_user = round(pv/uv, 2)\n",
    "user_pay_rate = round(user_pay/uv, 2)"
   ]
  },
  {
   "cell_type": "code",
   "execution_count": 6,
   "metadata": {
    "ExecuteTime": {
     "end_time": "2020-11-27T07:11:03.044360Z",
     "start_time": "2020-11-27T07:11:03.036486Z"
    }
   },
   "outputs": [
    {
     "data": {
      "text/html": [
       "<div>\n",
       "<style scoped>\n",
       "    .dataframe tbody tr th:only-of-type {\n",
       "        vertical-align: middle;\n",
       "    }\n",
       "\n",
       "    .dataframe tbody tr th {\n",
       "        vertical-align: top;\n",
       "    }\n",
       "\n",
       "    .dataframe thead th {\n",
       "        text-align: right;\n",
       "    }\n",
       "</style>\n",
       "<table border=\"1\" class=\"dataframe\">\n",
       "  <thead>\n",
       "    <tr style=\"text-align: right;\">\n",
       "      <th></th>\n",
       "      <th>Value</th>\n",
       "    </tr>\n",
       "  </thead>\n",
       "  <tbody>\n",
       "    <tr>\n",
       "      <th>总访问量 (PV)</th>\n",
       "      <td>1.000952e+08</td>\n",
       "    </tr>\n",
       "    <tr>\n",
       "      <th>总访客数 (UV)</th>\n",
       "      <td>9.879910e+05</td>\n",
       "    </tr>\n",
       "    <tr>\n",
       "      <th>消费用户数 (user_pay)</th>\n",
       "      <td>6.724040e+05</td>\n",
       "    </tr>\n",
       "    <tr>\n",
       "      <th>日均访问量 (pv_per_day)</th>\n",
       "      <td>1.112169e+07</td>\n",
       "    </tr>\n",
       "    <tr>\n",
       "      <th>人均访问量 (pv_per_user)</th>\n",
       "      <td>1.013100e+02</td>\n",
       "    </tr>\n",
       "    <tr>\n",
       "      <th>消费用户数占比 (user_pay_rate)</th>\n",
       "      <td>6.800000e-01</td>\n",
       "    </tr>\n",
       "  </tbody>\n",
       "</table>\n",
       "</div>"
      ],
      "text/plain": [
       "                                Value\n",
       "总访问量 (PV)                1.000952e+08\n",
       "总访客数 (UV)                9.879910e+05\n",
       "消费用户数 (user_pay)         6.724040e+05\n",
       "日均访问量 (pv_per_day)       1.112169e+07\n",
       "人均访问量 (pv_per_user)      1.013100e+02\n",
       "消费用户数占比 (user_pay_rate)  6.800000e-01"
      ]
     },
     "execution_count": 6,
     "metadata": {},
     "output_type": "execute_result"
    }
   ],
   "source": [
    "metrics = [\"总访问量 (PV)\", \"总访客数 (UV)\", \"消费用户数 (user_pay)\",\n",
    " \"日均访问量 (pv_per_day)\", \"人均访问量 (pv_per_user)\", \"消费用户数占比 (user_pay_rate)\"]\n",
    "\n",
    "metrics_val = [pv, uv, user_pay, pv_per_day, pv_per_user, user_pay_rate]\n",
    "\n",
    "pd.DataFrame({'Value': metrics_val}, index=metrics)"
   ]
  },
  {
   "cell_type": "code",
   "execution_count": 7,
   "metadata": {
    "ExecuteTime": {
     "end_time": "2020-11-27T07:11:08.927669Z",
     "start_time": "2020-11-27T07:11:03.138708Z"
    }
   },
   "outputs": [
    {
     "data": {
      "text/plain": [
       "8.906963727402375e-05"
      ]
     },
     "execution_count": 7,
     "metadata": {},
     "output_type": "execute_result"
    }
   ],
   "source": [
    "# 跳失率\n",
    "\n",
    "sum(ub.groupby('user_id')['behavior_type'].count() == 1)/ub['user_id'].nunique()"
   ]
  },
  {
   "cell_type": "markdown",
   "metadata": {},
   "source": [
    "## 5 - 消费频次"
   ]
  },
  {
   "cell_type": "markdown",
   "metadata": {},
   "source": [
    "### 5.2 复购率"
   ]
  },
  {
   "cell_type": "code",
   "execution_count": 33,
   "metadata": {
    "ExecuteTime": {
     "end_time": "2020-11-26T07:44:42.211793Z",
     "start_time": "2020-11-26T07:44:36.916673Z"
    }
   },
   "outputs": [],
   "source": [
    "rebuy_user = sum(ub[ub['behavior_type']=='buy'].groupby('user_id')['behavior_type'].count().apply(lambda x: 1 if x>=2 else 0))"
   ]
  },
  {
   "cell_type": "code",
   "execution_count": 34,
   "metadata": {
    "ExecuteTime": {
     "end_time": "2020-11-26T07:44:47.398324Z",
     "start_time": "2020-11-26T07:44:42.244349Z"
    }
   },
   "outputs": [],
   "source": [
    "all_buy_user = ub[ub['behavior_type']=='buy']['user_id'].nunique()"
   ]
  },
  {
   "cell_type": "code",
   "execution_count": 36,
   "metadata": {
    "ExecuteTime": {
     "end_time": "2020-11-26T07:45:35.511267Z",
     "start_time": "2020-11-26T07:45:35.508580Z"
    }
   },
   "outputs": [
    {
     "name": "stdout",
     "output_type": "stream",
     "text": [
      "复购率为： 0.6601\n"
     ]
    }
   ],
   "source": [
    "rebuy_rate = round(rebuy_user/all_buy_user, 4)\n",
    "print(\"复购率为：\", rebuy_rate)"
   ]
  },
  {
   "cell_type": "markdown",
   "metadata": {},
   "source": [
    "## 6 - 用户行为在时间维度的分布"
   ]
  },
  {
   "cell_type": "markdown",
   "metadata": {},
   "source": [
    "### 6.1 日活跃人数 (DAU)"
   ]
  },
  {
   "cell_type": "code",
   "execution_count": 3,
   "metadata": {
    "ExecuteTime": {
     "end_time": "2020-12-02T07:56:26.442450Z",
     "start_time": "2020-12-02T07:55:26.376775Z"
    }
   },
   "outputs": [],
   "source": [
    "DAU = ub.groupby('ub_date')['user_id'].nunique()\n",
    "behavior_count = ub.groupby('ub_date')['user_id'].count()\n",
    "user_pv = ub[ub['behavior_type']=='pv'].groupby('ub_date')['user_id'].count()\n",
    "user_fav = ub[ub['behavior_type']=='fav'].groupby('ub_date')['user_id'].count()\n",
    "user_cart = ub[ub['behavior_type']=='cart'].groupby('ub_date')['user_id'].count()\n",
    "user_buy = ub[ub['behavior_type']=='buy'].groupby('ub_date')['user_id'].count()"
   ]
  },
  {
   "cell_type": "code",
   "execution_count": 4,
   "metadata": {
    "ExecuteTime": {
     "end_time": "2020-12-02T07:56:26.903778Z",
     "start_time": "2020-12-02T07:56:26.849819Z"
    }
   },
   "outputs": [
    {
     "data": {
      "text/html": [
       "<div>\n",
       "<style scoped>\n",
       "    .dataframe tbody tr th:only-of-type {\n",
       "        vertical-align: middle;\n",
       "    }\n",
       "\n",
       "    .dataframe tbody tr th {\n",
       "        vertical-align: top;\n",
       "    }\n",
       "\n",
       "    .dataframe thead th {\n",
       "        text-align: right;\n",
       "    }\n",
       "</style>\n",
       "<table border=\"1\" class=\"dataframe\">\n",
       "  <thead>\n",
       "    <tr style=\"text-align: right;\">\n",
       "      <th></th>\n",
       "      <th>DAU</th>\n",
       "      <th>behavior_count</th>\n",
       "      <th>user_pv</th>\n",
       "      <th>user_fav</th>\n",
       "      <th>user_cart</th>\n",
       "      <th>user_buy</th>\n",
       "    </tr>\n",
       "    <tr>\n",
       "      <th>ub_date</th>\n",
       "      <th></th>\n",
       "      <th></th>\n",
       "      <th></th>\n",
       "      <th></th>\n",
       "      <th></th>\n",
       "      <th></th>\n",
       "    </tr>\n",
       "  </thead>\n",
       "  <tbody>\n",
       "    <tr>\n",
       "      <th>2017-11-25</th>\n",
       "      <td>706641</td>\n",
       "      <td>10420015</td>\n",
       "      <td>9353423</td>\n",
       "      <td>302071</td>\n",
       "      <td>563376</td>\n",
       "      <td>201145</td>\n",
       "    </tr>\n",
       "    <tr>\n",
       "      <th>2017-11-26</th>\n",
       "      <td>715516</td>\n",
       "      <td>10664602</td>\n",
       "      <td>9567423</td>\n",
       "      <td>308954</td>\n",
       "      <td>582581</td>\n",
       "      <td>205644</td>\n",
       "    </tr>\n",
       "    <tr>\n",
       "      <th>2017-11-27</th>\n",
       "      <td>710094</td>\n",
       "      <td>10101147</td>\n",
       "      <td>9041187</td>\n",
       "      <td>291221</td>\n",
       "      <td>541904</td>\n",
       "      <td>226835</td>\n",
       "    </tr>\n",
       "    <tr>\n",
       "      <th>2017-11-28</th>\n",
       "      <td>709257</td>\n",
       "      <td>9878190</td>\n",
       "      <td>8842933</td>\n",
       "      <td>289100</td>\n",
       "      <td>534157</td>\n",
       "      <td>212000</td>\n",
       "    </tr>\n",
       "    <tr>\n",
       "      <th>2017-11-29</th>\n",
       "      <td>718922</td>\n",
       "      <td>10284073</td>\n",
       "      <td>9210821</td>\n",
       "      <td>298587</td>\n",
       "      <td>551593</td>\n",
       "      <td>223072</td>\n",
       "    </tr>\n",
       "    <tr>\n",
       "      <th>2017-11-30</th>\n",
       "      <td>730597</td>\n",
       "      <td>10447740</td>\n",
       "      <td>9358998</td>\n",
       "      <td>302264</td>\n",
       "      <td>565015</td>\n",
       "      <td>221463</td>\n",
       "    </tr>\n",
       "    <tr>\n",
       "      <th>2017-12-01</th>\n",
       "      <td>740139</td>\n",
       "      <td>10859436</td>\n",
       "      <td>9718959</td>\n",
       "      <td>307115</td>\n",
       "      <td>623346</td>\n",
       "      <td>210016</td>\n",
       "    </tr>\n",
       "    <tr>\n",
       "      <th>2017-12-02</th>\n",
       "      <td>970401</td>\n",
       "      <td>13777869</td>\n",
       "      <td>12329644</td>\n",
       "      <td>396749</td>\n",
       "      <td>793569</td>\n",
       "      <td>257907</td>\n",
       "    </tr>\n",
       "    <tr>\n",
       "      <th>2017-12-03</th>\n",
       "      <td>966977</td>\n",
       "      <td>13662159</td>\n",
       "      <td>12237300</td>\n",
       "      <td>392197</td>\n",
       "      <td>774905</td>\n",
       "      <td>257757</td>\n",
       "    </tr>\n",
       "  </tbody>\n",
       "</table>\n",
       "</div>"
      ],
      "text/plain": [
       "               DAU  behavior_count   user_pv  user_fav  user_cart  user_buy\n",
       "ub_date                                                                    \n",
       "2017-11-25  706641        10420015   9353423    302071     563376    201145\n",
       "2017-11-26  715516        10664602   9567423    308954     582581    205644\n",
       "2017-11-27  710094        10101147   9041187    291221     541904    226835\n",
       "2017-11-28  709257         9878190   8842933    289100     534157    212000\n",
       "2017-11-29  718922        10284073   9210821    298587     551593    223072\n",
       "2017-11-30  730597        10447740   9358998    302264     565015    221463\n",
       "2017-12-01  740139        10859436   9718959    307115     623346    210016\n",
       "2017-12-02  970401        13777869  12329644    396749     793569    257907\n",
       "2017-12-03  966977        13662159  12237300    392197     774905    257757"
      ]
     },
     "execution_count": 4,
     "metadata": {},
     "output_type": "execute_result"
    }
   ],
   "source": [
    "active_metric = pd.DataFrame({'DAU': DAU,\n",
    "                              'behavior_count': behavior_count,\n",
    "                              'user_pv': user_pv,\n",
    "                              'user_fav': user_fav,\n",
    "                              'user_cart': user_cart,\n",
    "                              'user_buy': user_buy})\n",
    "active_metric"
   ]
  },
  {
   "cell_type": "code",
   "execution_count": 5,
   "metadata": {
    "ExecuteTime": {
     "end_time": "2020-12-02T07:56:27.707948Z",
     "start_time": "2020-12-02T07:56:27.327983Z"
    }
   },
   "outputs": [
    {
     "name": "stderr",
     "output_type": "stream",
     "text": [
      "/opt/anaconda3/lib/python3.7/site-packages/matplotlib/backends/backend_agg.py:238: RuntimeWarning: Glyph 20998 missing from current font.\n",
      "  font.set_text(s, 0.0, flags=flags)\n",
      "/opt/anaconda3/lib/python3.7/site-packages/matplotlib/backends/backend_agg.py:238: RuntimeWarning: Glyph 24067 missing from current font.\n",
      "  font.set_text(s, 0.0, flags=flags)\n",
      "/opt/anaconda3/lib/python3.7/site-packages/matplotlib/backends/backend_agg.py:201: RuntimeWarning: Glyph 20998 missing from current font.\n",
      "  font.set_text(s, 0, flags=flags)\n",
      "/opt/anaconda3/lib/python3.7/site-packages/matplotlib/backends/backend_agg.py:201: RuntimeWarning: Glyph 24067 missing from current font.\n",
      "  font.set_text(s, 0, flags=flags)\n"
     ]
    },
    {
     "data": {
      "image/png": "[encoded data removed]",
      "text/plain": [
       "<Figure size 1080x576 with 1 Axes>"
      ]
     },
     "metadata": {
      "image/png": {
       "height": 496,
       "width": 905
      },
      "needs_background": "light"
     },
     "output_type": "display_data"
    }
   ],
   "source": [
    "plt.figure(figsize=(15,8))\n",
    "sns.lineplot(data=active_metric['DAU'])\n",
    "plt.title('DAU 分布', fontsize=15)\n",
    "\n",
    "plt.show()"
   ]
  },
  {
   "cell_type": "code",
   "execution_count": null,
   "metadata": {},
   "outputs": [],
   "source": []
  }
 ],
 "metadata": {
  "hide_input": false,
  "kernelspec": {
   "display_name": "Python 3",
   "language": "python",
   "name": "python3"
  },
  "language_info": {
   "codemirror_mode": {
    "name": "ipython",
    "version": 3
   },
   "file_extension": ".py",
   "mimetype": "text/x-python",
   "name": "python",
   "nbconvert_exporter": "python",
   "pygments_lexer": "ipython3",
   "version": "3.7.0"
  },
  "toc": {
   "base_numbering": 1,
   "nav_menu": {},
   "number_sections": false,
   "sideBar": true,
   "skip_h1_title": false,
   "title_cell": "Table of Contents",
   "title_sidebar": "Contents",
   "toc_cell": false,
   "toc_position": {},
   "toc_section_display": true,
   "toc_window_display": true
  },
  "varInspector": {
   "cols": {
    "lenName": 16,
    "lenType": 16,
    "lenVar": 40
   },
   "kernels_config": {
    "python": {
     "delete_cmd_postfix": "",
     "delete_cmd_prefix": "del ",
     "library": "var_list.py",
     "varRefreshCmd": "print(var_dic_list())"
    },
    "r": {
     "delete_cmd_postfix": ") ",
     "delete_cmd_prefix": "rm(",
     "library": "var_list.r",
     "varRefreshCmd": "cat(var_dic_list()) "
    }
   },
   "oldHeight": 430.738364,
   "position": {
    "height": "394.006px",
    "left": "1214.08px",
    "right": "20px",
    "top": "96.9886px",
    "width": "304.006px"
   },
   "types_to_exclude": [
    "module",
    "function",
    "builtin_function_or_method",
    "instance",
    "_Feature"
   ],
   "varInspector_section_display": "none",
   "window_display": false
  }
 },
 "nbformat": 4,
 "nbformat_minor": 4
}
